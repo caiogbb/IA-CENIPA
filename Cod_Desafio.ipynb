{
 "cells": [
  {
   "cell_type": "markdown",
   "id": "71931543",
   "metadata": {},
   "source": [
    "<img src='./img/image1.png'>\n",
    "<h1>Questionamentos levantados</h1>\n",
    "\n",
    "Dentre as análises geradas utilizando os dados disponíveis do CENIPA, as seguintes perguntas irão ser respondidas:\n",
    "<br>\n",
    "<br>\n",
    "<li> 1 - Quais são as classificações de ocorrência no CENIPA?</li>\n",
    "<li> 2 - Quais são os Estados que possuem ocorrências? E quais são os top 10 dos Estados com maiores ocorrências de acidentes? \n",
    "<li> 3 - Quantas ocorrências envolvendo acidentes os relatórios foram divulgados?  \n",
    "<li> 4 - Qual o número de aeronaves envolvidas em ocorrências no CENIPA? E quantas delas são classificadas como acidente?     \n",
    "<li> 5 - Quais são as categorias dos operadores das aeronaves que apresentaram ocorrência?  \n",
    "<li> 6 - Quais são os tipos de veículos que tiveram ocorrência?  \n",
    "<li> 7 - Em quais tipos de veículo ocorreram mais acidentes?  \n",
    "<li> 8 - Quais são os tipos de motor de aeronaves em que ocorreram mais acidentes?\n",
    "<li> 9 - Qual é o top 10 de tipos de ocorrências registrados no CENIPA? E quais são os top 10 de acidentes? "
   ]
  },
  {
   "cell_type": "markdown",
   "id": "3c3ea938",
   "metadata": {},
   "source": [
    "<h1>Previsão dos casos de ocorrência via aplicativo shinyAPP denominado 'A3data'</h1>\n",
    "<br>\n",
    "<li> A ideia de construir um app em linguagem R utilizando o shinyAPP foi para termos uma visualização das ocorrências por classificação, e realizar uma previsão dessas ocorrências, com o objetivo de facilitar as politicas de manutenção de regras e novos abordagens para se evitar ao máximo essa ocorrência.\n",
    "<li> O aplicativo encontra-se em https://gx1jfd-caio-balieiro.shinyapps.io/A3data/    "
   ]
  },
  {
   "cell_type": "code",
   "execution_count": 1,
   "id": "a702870c",
   "metadata": {},
   "outputs": [],
   "source": [
    "# bibliotecas utilizadas\n",
    "import pandas as pd\n",
    "import numpy as np\n",
    "import matplotlib.pyplot as plt\n",
    "import seaborn as sns\n",
    "from datetime import datetime\n",
    "%matplotlib inline"
   ]
  },
  {
   "cell_type": "code",
   "execution_count": 2,
   "id": "e9b87fe5",
   "metadata": {},
   "outputs": [],
   "source": [
    "# Carreganndo os conjuntos de dados de ocorrencia e aeronave\n",
    "ocorrencia = pd.read_csv('ocorrencia.csv', sep =';')\n",
    "aeronave = pd.read_csv('aeronave.csv', sep =';')\n",
    "tipo = pd.read_csv('ocorrencia_tipo.csv', sep =';')\n",
    "recomendacao = pd.read_csv('recomendacao.csv', sep =';')"
   ]
  },
  {
   "cell_type": "code",
   "execution_count": 3,
   "id": "91eab681",
   "metadata": {},
   "outputs": [
    {
     "data": {
      "text/plain": [
       "(5167, 22)"
      ]
     },
     "execution_count": 3,
     "metadata": {},
     "output_type": "execute_result"
    }
   ],
   "source": [
    "# Verificando a dimensão dos dados de ocorrência\n",
    "ocorrencia.shape"
   ]
  },
  {
   "cell_type": "code",
   "execution_count": 4,
   "id": "e4a258f8",
   "metadata": {},
   "outputs": [
    {
     "data": {
      "text/plain": [
       "(5235, 23)"
      ]
     },
     "execution_count": 4,
     "metadata": {},
     "output_type": "execute_result"
    }
   ],
   "source": [
    "# Verificando a dimensão dos dados de aeronave\n",
    "aeronave.shape"
   ]
  },
  {
   "cell_type": "markdown",
   "id": "964d43e9",
   "metadata": {},
   "source": [
    "# Preparando os dados para responder as perguntas propostas no projeto"
   ]
  },
  {
   "cell_type": "code",
   "execution_count": 5,
   "id": "cae13927",
   "metadata": {},
   "outputs": [
    {
     "data": {
      "text/html": [
       "<div>\n",
       "<style scoped>\n",
       "    .dataframe tbody tr th:only-of-type {\n",
       "        vertical-align: middle;\n",
       "    }\n",
       "\n",
       "    .dataframe tbody tr th {\n",
       "        vertical-align: top;\n",
       "    }\n",
       "\n",
       "    .dataframe thead th {\n",
       "        text-align: right;\n",
       "    }\n",
       "</style>\n",
       "<table border=\"1\" class=\"dataframe\">\n",
       "  <thead>\n",
       "    <tr style=\"text-align: right;\">\n",
       "      <th></th>\n",
       "      <th>codigo_ocorrencia</th>\n",
       "      <th>codigo_ocorrencia1</th>\n",
       "      <th>codigo_ocorrencia2</th>\n",
       "      <th>codigo_ocorrencia3</th>\n",
       "      <th>codigo_ocorrencia4</th>\n",
       "      <th>ocorrencia_classificacao</th>\n",
       "      <th>ocorrencia_latitude</th>\n",
       "      <th>ocorrencia_longitude</th>\n",
       "      <th>ocorrencia_cidade</th>\n",
       "      <th>ocorrencia_uf</th>\n",
       "      <th>...</th>\n",
       "      <th>ocorrencia_dia</th>\n",
       "      <th>ocorrencia_hora</th>\n",
       "      <th>investigacao_aeronave_liberada</th>\n",
       "      <th>investigacao_status</th>\n",
       "      <th>divulgacao_relatorio_numero</th>\n",
       "      <th>divulgacao_relatorio_publicado</th>\n",
       "      <th>divulgacao_dia_publicacao</th>\n",
       "      <th>total_recomendacoes</th>\n",
       "      <th>total_aeronaves_envolvidas</th>\n",
       "      <th>ocorrencia_saida_pista</th>\n",
       "    </tr>\n",
       "  </thead>\n",
       "  <tbody>\n",
       "    <tr>\n",
       "      <th>0</th>\n",
       "      <td>52242</td>\n",
       "      <td>52242</td>\n",
       "      <td>52242</td>\n",
       "      <td>52242</td>\n",
       "      <td>52242</td>\n",
       "      <td>INCIDENTE</td>\n",
       "      <td>NaN</td>\n",
       "      <td>NaN</td>\n",
       "      <td>PORTO ALEGRE</td>\n",
       "      <td>RS</td>\n",
       "      <td>...</td>\n",
       "      <td>05/01/2012</td>\n",
       "      <td>20:27:00</td>\n",
       "      <td>***</td>\n",
       "      <td>FINALIZADA</td>\n",
       "      <td>***</td>\n",
       "      <td>NÃO</td>\n",
       "      <td>NaN</td>\n",
       "      <td>0</td>\n",
       "      <td>1</td>\n",
       "      <td>NÃO</td>\n",
       "    </tr>\n",
       "    <tr>\n",
       "      <th>1</th>\n",
       "      <td>45331</td>\n",
       "      <td>45331</td>\n",
       "      <td>45331</td>\n",
       "      <td>45331</td>\n",
       "      <td>45331</td>\n",
       "      <td>ACIDENTE</td>\n",
       "      <td>-23.4355555556</td>\n",
       "      <td>-46.4730555556</td>\n",
       "      <td>GUARULHOS</td>\n",
       "      <td>SP</td>\n",
       "      <td>...</td>\n",
       "      <td>06/01/2012</td>\n",
       "      <td>13:44:00</td>\n",
       "      <td>SIM</td>\n",
       "      <td>FINALIZADA</td>\n",
       "      <td>A-582/CENIPA/2014</td>\n",
       "      <td>SIM</td>\n",
       "      <td>2016-09-01</td>\n",
       "      <td>3</td>\n",
       "      <td>1</td>\n",
       "      <td>NÃO</td>\n",
       "    </tr>\n",
       "    <tr>\n",
       "      <th>2</th>\n",
       "      <td>45333</td>\n",
       "      <td>45333</td>\n",
       "      <td>45333</td>\n",
       "      <td>45333</td>\n",
       "      <td>45333</td>\n",
       "      <td>ACIDENTE</td>\n",
       "      <td>***</td>\n",
       "      <td>***</td>\n",
       "      <td>VIAMÃO</td>\n",
       "      <td>RS</td>\n",
       "      <td>...</td>\n",
       "      <td>06/01/2012</td>\n",
       "      <td>13:00:00</td>\n",
       "      <td>NaN</td>\n",
       "      <td>FINALIZADA</td>\n",
       "      <td>A-070/CENIPA/2013</td>\n",
       "      <td>SIM</td>\n",
       "      <td>2013-11-27</td>\n",
       "      <td>0</td>\n",
       "      <td>1</td>\n",
       "      <td>NÃO</td>\n",
       "    </tr>\n",
       "    <tr>\n",
       "      <th>3</th>\n",
       "      <td>45401</td>\n",
       "      <td>45401</td>\n",
       "      <td>45401</td>\n",
       "      <td>45401</td>\n",
       "      <td>45401</td>\n",
       "      <td>ACIDENTE</td>\n",
       "      <td>***</td>\n",
       "      <td>***</td>\n",
       "      <td>SÃO SEBASTIÃO</td>\n",
       "      <td>SP</td>\n",
       "      <td>...</td>\n",
       "      <td>06/01/2012</td>\n",
       "      <td>17:00:00</td>\n",
       "      <td>***</td>\n",
       "      <td>NaN</td>\n",
       "      <td>NaN</td>\n",
       "      <td>NÃO</td>\n",
       "      <td>NaN</td>\n",
       "      <td>0</td>\n",
       "      <td>1</td>\n",
       "      <td>NÃO</td>\n",
       "    </tr>\n",
       "    <tr>\n",
       "      <th>4</th>\n",
       "      <td>45407</td>\n",
       "      <td>45407</td>\n",
       "      <td>45407</td>\n",
       "      <td>45407</td>\n",
       "      <td>45407</td>\n",
       "      <td>ACIDENTE</td>\n",
       "      <td>***</td>\n",
       "      <td>***</td>\n",
       "      <td>SÃO SEPÉ</td>\n",
       "      <td>RS</td>\n",
       "      <td>...</td>\n",
       "      <td>06/01/2012</td>\n",
       "      <td>16:30:00</td>\n",
       "      <td>SIM</td>\n",
       "      <td>FINALIZADA</td>\n",
       "      <td>A-071/CENIPA/2013</td>\n",
       "      <td>SIM</td>\n",
       "      <td>2013-11-27</td>\n",
       "      <td>0</td>\n",
       "      <td>1</td>\n",
       "      <td>NÃO</td>\n",
       "    </tr>\n",
       "  </tbody>\n",
       "</table>\n",
       "<p>5 rows × 22 columns</p>\n",
       "</div>"
      ],
      "text/plain": [
       "   codigo_ocorrencia  codigo_ocorrencia1  codigo_ocorrencia2  \\\n",
       "0              52242               52242               52242   \n",
       "1              45331               45331               45331   \n",
       "2              45333               45333               45333   \n",
       "3              45401               45401               45401   \n",
       "4              45407               45407               45407   \n",
       "\n",
       "   codigo_ocorrencia3  codigo_ocorrencia4 ocorrencia_classificacao  \\\n",
       "0               52242               52242                INCIDENTE   \n",
       "1               45331               45331                 ACIDENTE   \n",
       "2               45333               45333                 ACIDENTE   \n",
       "3               45401               45401                 ACIDENTE   \n",
       "4               45407               45407                 ACIDENTE   \n",
       "\n",
       "  ocorrencia_latitude ocorrencia_longitude ocorrencia_cidade ocorrencia_uf  \\\n",
       "0                 NaN                  NaN      PORTO ALEGRE            RS   \n",
       "1      -23.4355555556       -46.4730555556         GUARULHOS            SP   \n",
       "2                 ***                  ***            VIAMÃO            RS   \n",
       "3                 ***                  ***     SÃO SEBASTIÃO            SP   \n",
       "4                 ***                  ***          SÃO SEPÉ            RS   \n",
       "\n",
       "   ... ocorrencia_dia ocorrencia_hora investigacao_aeronave_liberada  \\\n",
       "0  ...     05/01/2012        20:27:00                            ***   \n",
       "1  ...     06/01/2012        13:44:00                            SIM   \n",
       "2  ...     06/01/2012        13:00:00                            NaN   \n",
       "3  ...     06/01/2012        17:00:00                            ***   \n",
       "4  ...     06/01/2012        16:30:00                            SIM   \n",
       "\n",
       "  investigacao_status divulgacao_relatorio_numero  \\\n",
       "0          FINALIZADA                         ***   \n",
       "1          FINALIZADA           A-582/CENIPA/2014   \n",
       "2          FINALIZADA           A-070/CENIPA/2013   \n",
       "3                 NaN                         NaN   \n",
       "4          FINALIZADA           A-071/CENIPA/2013   \n",
       "\n",
       "  divulgacao_relatorio_publicado divulgacao_dia_publicacao  \\\n",
       "0                            NÃO                       NaN   \n",
       "1                            SIM                2016-09-01   \n",
       "2                            SIM                2013-11-27   \n",
       "3                            NÃO                       NaN   \n",
       "4                            SIM                2013-11-27   \n",
       "\n",
       "  total_recomendacoes total_aeronaves_envolvidas  ocorrencia_saida_pista  \n",
       "0                   0                          1                     NÃO  \n",
       "1                   3                          1                     NÃO  \n",
       "2                   0                          1                     NÃO  \n",
       "3                   0                          1                     NÃO  \n",
       "4                   0                          1                     NÃO  \n",
       "\n",
       "[5 rows x 22 columns]"
      ]
     },
     "execution_count": 5,
     "metadata": {},
     "output_type": "execute_result"
    }
   ],
   "source": [
    "ocorrencia.head()"
   ]
  },
  {
   "cell_type": "code",
   "execution_count": 6,
   "id": "0383a378",
   "metadata": {},
   "outputs": [
    {
     "name": "stdout",
     "output_type": "stream",
     "text": [
      "<class 'pandas.core.frame.DataFrame'>\n",
      "RangeIndex: 5167 entries, 0 to 5166\n",
      "Data columns (total 22 columns):\n",
      " #   Column                          Non-Null Count  Dtype \n",
      "---  ------                          --------------  ----- \n",
      " 0   codigo_ocorrencia               5167 non-null   int64 \n",
      " 1   codigo_ocorrencia1              5167 non-null   int64 \n",
      " 2   codigo_ocorrencia2              5167 non-null   int64 \n",
      " 3   codigo_ocorrencia3              5167 non-null   int64 \n",
      " 4   codigo_ocorrencia4              5167 non-null   int64 \n",
      " 5   ocorrencia_classificacao        5167 non-null   object\n",
      " 6   ocorrencia_latitude             4192 non-null   object\n",
      " 7   ocorrencia_longitude            4192 non-null   object\n",
      " 8   ocorrencia_cidade               5167 non-null   object\n",
      " 9   ocorrencia_uf                   5167 non-null   object\n",
      " 10  ocorrencia_pais                 5167 non-null   object\n",
      " 11  ocorrencia_aerodromo            5167 non-null   object\n",
      " 12  ocorrencia_dia                  5167 non-null   object\n",
      " 13  ocorrencia_hora                 5166 non-null   object\n",
      " 14  investigacao_aeronave_liberada  5001 non-null   object\n",
      " 15  investigacao_status             4910 non-null   object\n",
      " 16  divulgacao_relatorio_numero     4783 non-null   object\n",
      " 17  divulgacao_relatorio_publicado  5167 non-null   object\n",
      " 18  divulgacao_dia_publicacao       1351 non-null   object\n",
      " 19  total_recomendacoes             5167 non-null   int64 \n",
      " 20  total_aeronaves_envolvidas      5167 non-null   int64 \n",
      " 21  ocorrencia_saida_pista          5167 non-null   object\n",
      "dtypes: int64(7), object(15)\n",
      "memory usage: 888.2+ KB\n"
     ]
    }
   ],
   "source": [
    "ocorrencia.info()"
   ]
  },
  {
   "cell_type": "markdown",
   "id": "dfa8d890",
   "metadata": {},
   "source": [
    "#### Como apresentado acima o conjunto de dados de apresenta 5167 linhas (número de ocorrências), através das colunas  vamos responder as perguntas propostas inicialmente. "
   ]
  },
  {
   "cell_type": "markdown",
   "id": "1fa99abc",
   "metadata": {},
   "source": [
    "<h1>Respostas as perguntas utilizando o conjunto de dados ocorrência (Insights)</h1>\n",
    "\n",
    "<br> A primeira pergunta que será respondida é: <br>\n",
    "### Quais são as classificações de ocorrência no CENIPA?"
   ]
  },
  {
   "cell_type": "code",
   "execution_count": 7,
   "id": "83e73d86",
   "metadata": {},
   "outputs": [
    {
     "data": {
      "text/html": [
       "<div>\n",
       "<style scoped>\n",
       "    .dataframe tbody tr th:only-of-type {\n",
       "        vertical-align: middle;\n",
       "    }\n",
       "\n",
       "    .dataframe tbody tr th {\n",
       "        vertical-align: top;\n",
       "    }\n",
       "\n",
       "    .dataframe thead th {\n",
       "        text-align: right;\n",
       "    }\n",
       "</style>\n",
       "<table border=\"1\" class=\"dataframe\">\n",
       "  <thead>\n",
       "    <tr style=\"text-align: right;\">\n",
       "      <th></th>\n",
       "      <th>ocorrencia_classificacao</th>\n",
       "      <th>Porcentagem</th>\n",
       "    </tr>\n",
       "  </thead>\n",
       "  <tbody>\n",
       "    <tr>\n",
       "      <th>INCIDENTE</th>\n",
       "      <td>2809</td>\n",
       "      <td>54.364235</td>\n",
       "    </tr>\n",
       "    <tr>\n",
       "      <th>ACIDENTE</th>\n",
       "      <td>1667</td>\n",
       "      <td>32.262435</td>\n",
       "    </tr>\n",
       "    <tr>\n",
       "      <th>INCIDENTE GRAVE</th>\n",
       "      <td>691</td>\n",
       "      <td>13.373331</td>\n",
       "    </tr>\n",
       "  </tbody>\n",
       "</table>\n",
       "</div>"
      ],
      "text/plain": [
       "                 ocorrencia_classificacao  Porcentagem\n",
       "INCIDENTE                            2809    54.364235\n",
       "ACIDENTE                             1667    32.262435\n",
       "INCIDENTE GRAVE                       691    13.373331"
      ]
     },
     "execution_count": 7,
     "metadata": {},
     "output_type": "execute_result"
    }
   ],
   "source": [
    "ocorrencia['ocorrencia_classificacao'].value_counts()\n",
    "\n",
    "registro = pd.DataFrame(ocorrencia['ocorrencia_classificacao'].value_counts())\n",
    "freq = np.array(ocorrencia['ocorrencia_classificacao'].value_counts()/ len(ocorrencia) * 100)\n",
    "registro['Porcentagem'] = freq\n",
    "registro"
   ]
  },
  {
   "cell_type": "code",
   "execution_count": 8,
   "id": "cfc69525",
   "metadata": {},
   "outputs": [
    {
     "data": {
      "image/png": "[encoded data removed]",
      "text/plain": [
       "<Figure size 432x432 with 1 Axes>"
      ]
     },
     "metadata": {},
     "output_type": "display_data"
    }
   ],
   "source": [
    "\n",
    "porcentagem = ocorrencia['ocorrencia_classificacao'].value_counts()/ ocorrencia['ocorrencia_classificacao'].count()\n",
    "\n",
    "\n",
    "# Gráfico de setores por classificação de ocorrência\n",
    "labels = ['INCIDENTE', 'ACIDENTE', 'INCIDENTE GRAVE']\n",
    "sizes = porcentagem[0:3]\n",
    "explode = (0, 0.1, 0) \n",
    "fig1, ax1 = plt.subplots(figsize=(6, 6))\n",
    "ax1.pie(sizes, explode=explode, labels=labels, autopct='%1.1f%%',\n",
    "       shadow=True, startangle=90)  # gráfico de pizza\n",
    "ax1.axis('equal')   # Proporção de aspecto igual garante que a torta seja desenhada como um círculo.\n",
    "plt.title('Classificação dos Registros')\n",
    "plt.savefig('p1.pdf')\n",
    "\n"
   ]
  },
  {
   "cell_type": "markdown",
   "id": "12dd3346",
   "metadata": {},
   "source": [
    "### Nota que, a classificação de ocorrências é dada por Incidente, Acidente e Incidente grave, sendo que 54% corresponde a incidentes, 32% a acidentes e apenas 13,4% para incidente grave. "
   ]
  },
  {
   "cell_type": "markdown",
   "id": "214c3f89",
   "metadata": {},
   "source": [
    "<br>A segunda pergunta que será respondida é: <br>\n",
    "###  Quais são os Estados que possuem ocorrências? E quais são os top 10 dos Estados com maiores ocorrências de acidentes?\n"
   ]
  },
  {
   "cell_type": "code",
   "execution_count": 9,
   "id": "8a1d4b53",
   "metadata": {},
   "outputs": [],
   "source": [
    "ocorrencia_acidente = ocorrencia[ocorrencia['ocorrencia_classificacao'] == 'ACIDENTE']"
   ]
  },
  {
   "cell_type": "code",
   "execution_count": 10,
   "id": "7bb215fd",
   "metadata": {},
   "outputs": [
    {
     "data": {
      "text/plain": [
       "SP     348\n",
       "MT     157\n",
       "RS     155\n",
       "MG     141\n",
       "PR     133\n",
       "PA     117\n",
       "GO     114\n",
       "MS      78\n",
       "AM      63\n",
       "RJ      58\n",
       "SC      56\n",
       "BA      52\n",
       "RR      30\n",
       "MA      27\n",
       "CE      19\n",
       "TO      19\n",
       "RO      16\n",
       "PI      14\n",
       "PE      14\n",
       "ES      13\n",
       "AC      12\n",
       "PB       7\n",
       "SE       7\n",
       "DF       6\n",
       "AP       4\n",
       "RN       4\n",
       "***      2\n",
       "AL       1\n",
       "Name: ocorrencia_uf, dtype: int64"
      ]
     },
     "execution_count": 10,
     "metadata": {},
     "output_type": "execute_result"
    }
   ],
   "source": [
    "UF = ocorrencia_acidente['ocorrencia_uf'].value_counts()\n",
    "UF"
   ]
  },
  {
   "cell_type": "code",
   "execution_count": 11,
   "id": "c9cce9cf",
   "metadata": {},
   "outputs": [
    {
     "data": {
      "text/plain": [
       "28"
      ]
     },
     "execution_count": 11,
     "metadata": {},
     "output_type": "execute_result"
    }
   ],
   "source": [
    "len(UF) # Quantidade de Estados com registros de ocorrência"
   ]
  },
  {
   "cell_type": "code",
   "execution_count": 12,
   "id": "c4f68e07",
   "metadata": {},
   "outputs": [],
   "source": [
    "# Filtrando os dados apenas para registros que são considerados acidentes\n",
    "ocorrencia_acidente = ocorrencia[ocorrencia['ocorrencia_classificacao'] == 'ACIDENTE']"
   ]
  },
  {
   "cell_type": "code",
   "execution_count": 13,
   "id": "ffb09db1",
   "metadata": {},
   "outputs": [
    {
     "data": {
      "text/html": [
       "<div>\n",
       "<style scoped>\n",
       "    .dataframe tbody tr th:only-of-type {\n",
       "        vertical-align: middle;\n",
       "    }\n",
       "\n",
       "    .dataframe tbody tr th {\n",
       "        vertical-align: top;\n",
       "    }\n",
       "\n",
       "    .dataframe thead th {\n",
       "        text-align: right;\n",
       "    }\n",
       "</style>\n",
       "<table border=\"1\" class=\"dataframe\">\n",
       "  <thead>\n",
       "    <tr style=\"text-align: right;\">\n",
       "      <th></th>\n",
       "      <th>Top 10 registros de acidentes</th>\n",
       "      <th>Porcentagem</th>\n",
       "    </tr>\n",
       "  </thead>\n",
       "  <tbody>\n",
       "    <tr>\n",
       "      <th>SP</th>\n",
       "      <td>348</td>\n",
       "      <td>25.513196</td>\n",
       "    </tr>\n",
       "    <tr>\n",
       "      <th>MT</th>\n",
       "      <td>157</td>\n",
       "      <td>11.510264</td>\n",
       "    </tr>\n",
       "    <tr>\n",
       "      <th>RS</th>\n",
       "      <td>155</td>\n",
       "      <td>11.363636</td>\n",
       "    </tr>\n",
       "    <tr>\n",
       "      <th>MG</th>\n",
       "      <td>141</td>\n",
       "      <td>10.337243</td>\n",
       "    </tr>\n",
       "    <tr>\n",
       "      <th>PR</th>\n",
       "      <td>133</td>\n",
       "      <td>9.750733</td>\n",
       "    </tr>\n",
       "    <tr>\n",
       "      <th>PA</th>\n",
       "      <td>117</td>\n",
       "      <td>8.577713</td>\n",
       "    </tr>\n",
       "    <tr>\n",
       "      <th>GO</th>\n",
       "      <td>114</td>\n",
       "      <td>8.357771</td>\n",
       "    </tr>\n",
       "    <tr>\n",
       "      <th>MS</th>\n",
       "      <td>78</td>\n",
       "      <td>5.718475</td>\n",
       "    </tr>\n",
       "    <tr>\n",
       "      <th>AM</th>\n",
       "      <td>63</td>\n",
       "      <td>4.618768</td>\n",
       "    </tr>\n",
       "    <tr>\n",
       "      <th>RJ</th>\n",
       "      <td>58</td>\n",
       "      <td>4.252199</td>\n",
       "    </tr>\n",
       "  </tbody>\n",
       "</table>\n",
       "</div>"
      ],
      "text/plain": [
       "    Top 10 registros de acidentes  Porcentagem\n",
       "SP                            348    25.513196\n",
       "MT                            157    11.510264\n",
       "RS                            155    11.363636\n",
       "MG                            141    10.337243\n",
       "PR                            133     9.750733\n",
       "PA                            117     8.577713\n",
       "GO                            114     8.357771\n",
       "MS                             78     5.718475\n",
       "AM                             63     4.618768\n",
       "RJ                             58     4.252199"
      ]
     },
     "execution_count": 13,
     "metadata": {},
     "output_type": "execute_result"
    }
   ],
   "source": [
    "registro = pd.DataFrame(ocorrencia_acidente['ocorrencia_uf'].value_counts().head(10).to_frame('Top 10 registros de acidentes'))\n",
    "freq = np.array(ocorrencia_acidente['ocorrencia_uf'].value_counts().head(10)/ ocorrencia_acidente['ocorrencia_uf'].value_counts().head(10).sum() * 100)\n",
    "registro['Porcentagem'] = freq\n",
    "registro"
   ]
  },
  {
   "cell_type": "code",
   "execution_count": 14,
   "id": "93813ac9",
   "metadata": {},
   "outputs": [
    {
     "data": {
      "text/plain": [
       "1364"
      ]
     },
     "execution_count": 14,
     "metadata": {},
     "output_type": "execute_result"
    }
   ],
   "source": [
    "ocorrencia_acidente['ocorrencia_uf'].value_counts().head(10).sum()"
   ]
  },
  {
   "cell_type": "code",
   "execution_count": null,
   "id": "cc294933",
   "metadata": {},
   "outputs": [],
   "source": [
    "ax =  ocorrencia_acidente['ocorrencia_uf'].value_counts().head(10).plot(kind='bar', figsize=(12,5))\n",
    "for p in ax.patches:\n",
    "    b=p.get_bbox()\n",
    "    ax.annotate(\"{:.0f}\".format(b.y1 + b.y0), ((b.x0 + b.x1)/2 - 0.1, b.y1 + 15))\n",
    "plt.xlabel('Estado')\n",
    "plt.ylabel('Quantidade de Acidentes')\n",
    "plt.title('Quantidade de acidentes por Estado')\n",
    "plt.xticks(rotation=35)\n",
    "plt.ylim([0, 400])\n",
    "plt.savefig('p2.pdf')"
   ]
  },
  {
   "cell_type": "markdown",
   "id": "733fad49",
   "metadata": {},
   "source": [
    "### Como  apresentado acima, todos os Estados do Brasil apresentam ocorrências. Um pergunta interessante que pode-se fazer é em quais Estados os registros de ocorrência são maiores. Com base na Tabela e gráfico acima, tem-se o Top 10 dos estados com maiores registros, dentre eles são: SP com 348 acidentes MT em segundo com 157 acidentes, e o último é a RJ com 58 registros de acidentes."
   ]
  },
  {
   "cell_type": "markdown",
   "id": "7144b71d",
   "metadata": {},
   "source": [
    "<br>A terceira pergunta que será respondida é: <br>\n",
    "### Quantas ocorrências envolvendo acidentes foram finalizadas?"
   ]
  },
  {
   "cell_type": "code",
   "execution_count": null,
   "id": "6b6e2250",
   "metadata": {},
   "outputs": [],
   "source": [
    "finalizas = pd.DataFrame(ocorrencia_acidente['divulgacao_relatorio_publicado'].value_counts())\n",
    "freq = np.array(ocorrencia_acidente['divulgacao_relatorio_publicado'].value_counts()/ len(ocorrencia_acidente) * 100)\n",
    "finalizas['Porcentagem'] = freq\n",
    "finalizas"
   ]
  },
  {
   "cell_type": "code",
   "execution_count": null,
   "id": "92887544",
   "metadata": {},
   "outputs": [],
   "source": [
    "# Gráfico de setores por classificação de ocorrência\n",
    "porcentagem = ocorrencia_acidente['divulgacao_relatorio_publicado'].value_counts()/ len(ocorrencia_acidente)\n",
    "labels = ['Sim', 'Não']\n",
    "sizes = porcentagem[0:2]\n",
    "explode = (0, 0.1) \n",
    "fig1, ax1 = plt.subplots(figsize=(6, 6))\n",
    "ax1.pie(sizes, explode=explode, labels=labels, autopct='%1.1f%%',\n",
    "       shadow=True, startangle=90)  # gráfico de pizza\n",
    "ax1.axis('equal')   # Proporção de aspecto igual garante que a torta seja desenhada como um círculo.\n",
    "plt.savefig('p3.pdf')"
   ]
  },
  {
   "cell_type": "markdown",
   "id": "3f066d1f",
   "metadata": {},
   "source": [
    "### Em casos onde ocorrem acidentes é importante que os relatórios técnicos das causas do acidentes sejam divulgados o mais rápido possível, pois, através desse acidente pode-se estudar como não cometer mais os erros humanos, identificar causas mecânicas que são apresentadas no relatório. Com base no gráfico acima, tem-se que 61,7% dos relatórios técnicos foram apresentados e 38% não apresetaram o relatório."
   ]
  },
  {
   "cell_type": "markdown",
   "id": "2b5354ce",
   "metadata": {},
   "source": [
    "<br>A quarta pergunta que será respondida é: <br>\n",
    "### Qual o número de aeronaves envolvidas em ocorrências no CENIPA? E quantas delas são classificadas como acidente? \n",
    "\n"
   ]
  },
  {
   "cell_type": "code",
   "execution_count": null,
   "id": "8dcc5aa0",
   "metadata": {},
   "outputs": [],
   "source": [
    "envolvidas = pd.DataFrame(ocorrencia['total_aeronaves_envolvidas'].value_counts())\n",
    "freq = np.array(ocorrencia['total_aeronaves_envolvidas'].value_counts()/ len(ocorrencia) * 100)\n",
    "envolvidas['Porcentagem'] = freq\n",
    "envolvidas"
   ]
  },
  {
   "cell_type": "code",
   "execution_count": null,
   "id": "bd7de0e7",
   "metadata": {},
   "outputs": [],
   "source": [
    "ax = ocorrencia['total_aeronaves_envolvidas'].value_counts().plot(kind='bar', figsize=(11,5))\n",
    "for p in ax.patches:\n",
    "    b=p.get_bbox()\n",
    "    ax.annotate(\"{:.0f}\".format(b.y1 + b.y0), ((b.x0 + b.x1)/2 - 0.1, b.y1 + 15))\n",
    "plt.xlabel('Número de aeronaves')\n",
    "plt.ylabel('Quantidade de registros')\n",
    "plt.title('Quantidade aeronaves por registro')\n",
    "plt.xticks(rotation=35)\n",
    "plt.savefig('p4.pdf')"
   ]
  },
  {
   "cell_type": "markdown",
   "id": "2e365826",
   "metadata": {},
   "source": [
    "### Com base na Tabela acima e gráfico de barras, tem-se que grande parte das ocorrências foram apenas com uma única aeronave (cerca de 98% delas), 62 registros foram com 2 aeronaves e apenas 3 com três aeronaves."
   ]
  },
  {
   "cell_type": "code",
   "execution_count": null,
   "id": "9e9cd1b6",
   "metadata": {},
   "outputs": [],
   "source": [
    "envolvidas = pd.DataFrame(ocorrencia_acidente['total_aeronaves_envolvidas'].value_counts())\n",
    "freq = np.array(ocorrencia_acidente['total_aeronaves_envolvidas'].value_counts()/ len(ocorrencia_acidente) * 100)\n",
    "envolvidas['Porcentagem'] = freq\n",
    "envolvidas"
   ]
  },
  {
   "cell_type": "code",
   "execution_count": null,
   "id": "1e12824a",
   "metadata": {},
   "outputs": [],
   "source": [
    "ax = ocorrencia_acidente['total_aeronaves_envolvidas'].value_counts().plot(kind='bar', figsize=(11,5))\n",
    "\n",
    "for p in ax.patches:\n",
    "    b=p.get_bbox()\n",
    "    ax.annotate(\"{:.0f}\".format(b.y1 + b.y0), ((b.x0 + b.x1)/2 - 0.1, b.y1 + 15))\n",
    "    \n",
    "plt.xlabel('Número de aeronaves')\n",
    "plt.ylabel('Quantidade de registros')\n",
    "plt.title('Quantidade de aeronaves por registro')\n",
    "plt.xticks(rotation=35)\n",
    "plt.ylim([0, 2000])\n",
    "plt.savefig('p4.pdf')"
   ]
  },
  {
   "cell_type": "markdown",
   "id": "5080db74",
   "metadata": {},
   "source": [
    "### Com base a Tabela e Gráfico acima, o número de ocorrências classificadas como acidente tiveram mais casos com apenas uma aeronave 1656, enquanto que apenas 11 registros foram considerando acidentes com duas aeronaves."
   ]
  },
  {
   "cell_type": "code",
   "execution_count": null,
   "id": "bfdb55b1",
   "metadata": {},
   "outputs": [],
   "source": [
    "# Verificado as colunas do conjunto de dados referete a aeronaves.\n",
    "aeronave.info()"
   ]
  },
  {
   "cell_type": "markdown",
   "id": "2e11c6c5",
   "metadata": {},
   "source": [
    "<br>A quinta pergunta que será respondida é: <br>\n",
    "### Quais são as categorias dos operadores das aeronaves que apresentaram ocorrência?  \n",
    "\n"
   ]
  },
  {
   "cell_type": "code",
   "execution_count": null,
   "id": "8188812a",
   "metadata": {},
   "outputs": [],
   "source": [
    "operador = pd.DataFrame(aeronave['aeronave_operador_categoria'].value_counts())\n",
    "freq = np.array(aeronave['aeronave_operador_categoria'].value_counts()/ len(aeronave) * 100)\n",
    "operador['Porcentagem'] = freq\n",
    "operador"
   ]
  },
  {
   "cell_type": "code",
   "execution_count": null,
   "id": "2604bf4c",
   "metadata": {},
   "outputs": [],
   "source": [
    "ax = aeronave['aeronave_operador_categoria'].value_counts().plot(kind='bar', figsize=(11,5))\n",
    "\n",
    "for p in ax.patches:\n",
    "    b=p.get_bbox()\n",
    "    ax.annotate(\"{:.0f}\".format(b.y1 + b.y0), ((b.x0 + b.x1)/2 - 0.1, b.y1 + 15))\n",
    "    \n",
    "plt.xlabel('Categoria do Operador')\n",
    "plt.ylabel('Quantidade de registros')\n",
    "plt.title('Quantidade de operadores por registro')\n",
    "plt.xticks(rotation=35)\n",
    "plt.savefig('p5.pdf')"
   ]
  },
  {
   "cell_type": "markdown",
   "id": "60e554fd",
   "metadata": {},
   "source": [
    "### Com base na Tabela e Gráfico tem-se que grande parte da categoria dos operadores é ocupada por uma categoria que não foi divulgada pelo conjunto de dados, em segundo lugar temos a regular e por último temos a múltipla."
   ]
  },
  {
   "cell_type": "markdown",
   "id": "2d1ddfcd",
   "metadata": {},
   "source": [
    "<br>A sexta pergunta que será respondida é: <br>\n",
    "### Quais são os tipos de veículos que tiveram ocorrência? "
   ]
  },
  {
   "cell_type": "code",
   "execution_count": null,
   "id": "f606fb81",
   "metadata": {},
   "outputs": [],
   "source": [
    "aeronave['aeronave_tipo_veiculo']\n",
    "tipo3 = pd.DataFrame(aeronave['aeronave_tipo_veiculo'].value_counts())\n",
    "freq = np.array(aeronave['aeronave_tipo_veiculo'].value_counts()/ len(aeronave) * 100)\n",
    "tipo3['Porcentagem'] = freq\n",
    "tipo3"
   ]
  },
  {
   "cell_type": "code",
   "execution_count": null,
   "id": "f136a55e",
   "metadata": {},
   "outputs": [],
   "source": [
    "len(aeronave)"
   ]
  },
  {
   "cell_type": "code",
   "execution_count": null,
   "id": "223baff9",
   "metadata": {},
   "outputs": [],
   "source": [
    "ax = aeronave['aeronave_tipo_veiculo'].value_counts().plot(kind='bar', figsize=(11,5))\n",
    "for p in ax.patches:\n",
    "    b=p.get_bbox()\n",
    "    ax.annotate(\"{:.0f}\".format(b.y1 + b.y0), ((b.x0 + b.x1)/2 - 0.1, b.y1 + 15))\n",
    "    \n",
    "plt.xlabel('Tipo de veículo')\n",
    "plt.ylabel('Quantidade de registros')\n",
    "plt.title('Quantidade de veículos')\n",
    "plt.xticks(rotation=35)\n",
    "plt.savefig('p6.pdf')"
   ]
  },
  {
   "cell_type": "markdown",
   "id": "703b2a2a",
   "metadata": {},
   "source": [
    "### No que se refere a quantidade de veículos, tem-se que 80% dos veículos são classificados como avião, 10% como helicóptero, e os apresetam uma porcentagem abaixo de 6%. "
   ]
  },
  {
   "cell_type": "markdown",
   "id": "3c8a8b57",
   "metadata": {},
   "source": [
    "### Uma pergunta interessante que pode surgir na análise seria: Em quais tipos de veículo ocorrem mais acidentes?"
   ]
  },
  {
   "cell_type": "markdown",
   "id": "d8317322",
   "metadata": {},
   "source": [
    "<br>A sétima pergunta que será respondida é: <br>\n",
    "### Em quais tipos de veículo ocorrem mais acidentes?"
   ]
  },
  {
   "cell_type": "code",
   "execution_count": null,
   "id": "36c5cf08",
   "metadata": {},
   "outputs": [],
   "source": [
    "# Construido um Tabela utilizando a função merge, para juntar dois conjuntos de dados ligado pela chave ocorrência 2\n",
    "Tabela =  pd.merge(ocorrencia, aeronave, on=[\"codigo_ocorrencia2\",\"codigo_ocorrencia2\"], how=\"left\")\n",
    "Tabela"
   ]
  },
  {
   "cell_type": "code",
   "execution_count": null,
   "id": "c5e89a27",
   "metadata": {},
   "outputs": [],
   "source": [
    "# Filtrando apenas para os acidentes \n",
    "aeronave_acidente = Tabela[Tabela['ocorrencia_classificacao'] == 'ACIDENTE']\n",
    "aeronave_acidente.shape"
   ]
  },
  {
   "cell_type": "code",
   "execution_count": null,
   "id": "52b681c7",
   "metadata": {},
   "outputs": [],
   "source": [
    "aeronave_acidente['aeronave_tipo_veiculo']\n",
    "tipo_2 = pd.DataFrame(aeronave_acidente['aeronave_tipo_veiculo'].value_counts())\n",
    "freq = np.array(aeronave_acidente['aeronave_tipo_veiculo'].value_counts()/ len(aeronave_acidente) * 100)\n",
    "tipo_2['Porcentagem'] = freq\n",
    "tipo_2"
   ]
  },
  {
   "cell_type": "code",
   "execution_count": null,
   "id": "6c43221d",
   "metadata": {},
   "outputs": [],
   "source": [
    "ax = aeronave_acidente['aeronave_tipo_veiculo'].value_counts().plot(kind='bar', figsize=(11,5))\n",
    "for p in ax.patches:\n",
    "    b=p.get_bbox()\n",
    "    ax.annotate(\"{:.0f}\".format(b.y1 + b.y0), ((b.x0 + b.x1)/2 - 0.1, b.y1 + 15))\n",
    "    \n",
    "plt.xlabel('Tipo de veículo')\n",
    "plt.ylabel('Quantidade de registros')\n",
    "plt.title('Quantidade de veículos')\n",
    "plt.xticks(rotation=15)\n",
    "plt.savefig('p7.pdf')"
   ]
  },
  {
   "cell_type": "markdown",
   "id": "df601f31",
   "metadata": {},
   "source": [
    "### Observa-se que 72% dos acidentes são com avião, 12% são com Ultraleve e 11% com Helicóptero, e os demais tipos ficam abaixo de 3%."
   ]
  },
  {
   "cell_type": "markdown",
   "id": "ff6e0477",
   "metadata": {},
   "source": [
    "<br>A oitava pergunta que será respondida é: <br>\n",
    "### Quais são os tipos de motor de aeronaves em que ocorreram mais acidentes?"
   ]
  },
  {
   "cell_type": "code",
   "execution_count": null,
   "id": "fe666d58",
   "metadata": {},
   "outputs": [],
   "source": [
    "aeronave_acidente['aeronave_motor_tipo'].value_counts()"
   ]
  },
  {
   "cell_type": "code",
   "execution_count": null,
   "id": "6f86d760",
   "metadata": {},
   "outputs": [],
   "source": [
    "aeronave_acidente['aeronave_motor_tipo']\n",
    "tipo_2 = pd.DataFrame(aeronave_acidente['aeronave_motor_tipo'].value_counts())\n",
    "freq = np.array(aeronave_acidente['aeronave_motor_tipo'].value_counts()/ len(aeronave_acidente) * 100)\n",
    "tipo_2['Porcentagem'] = freq\n",
    "tipo_2"
   ]
  },
  {
   "cell_type": "code",
   "execution_count": null,
   "id": "c7c9d6a4",
   "metadata": {},
   "outputs": [],
   "source": [
    "ax = aeronave_acidente['aeronave_motor_tipo'].value_counts().plot(kind='bar', figsize=(11,5))\n",
    "for p in ax.patches:\n",
    "    b=p.get_bbox()\n",
    "    ax.annotate(\"{:.0f}\".format(b.y1 + b.y0), ((b.x0 + b.x1)/2 - 0.1, b.y1 + 15))\n",
    "plt.xlabel('Tipo de motor do veículo')\n",
    "plt.ylabel('Quantidade de registros')\n",
    "plt.title('Quantidade de veículos por tipo de motor')\n",
    "plt.xticks(rotation=15)\n",
    "plt.savefig('p8.pdf')"
   ]
  },
  {
   "cell_type": "markdown",
   "id": "b91fb069",
   "metadata": {},
   "source": [
    "### Com base nos resultados acima referentes a Tabela e Gráfico, tem-se que 80% dos acidentes com veículos ocorrem com as que possuem motor pistão, enquanto que os demais motores representam menos de 20% dos acidentes. De acordo com https://aeromagazine.uol.com.br/artigo/cuidados-com-o-motor-a-pistao_332.html, essa relação alta de acidentes com veículos de motor de pistão se dá pelo fato de que a pistão emitem sinais de panes que estão por vir. Vibrações excessivas, funcionamento áspero, falhas ocasionais e a cor interna dos escapamentos podem significar sintomas de que algo não anda bem."
   ]
  },
  {
   "cell_type": "markdown",
   "id": "bdb748ea",
   "metadata": {},
   "source": [
    "<br>A nona pergunta que será respondida é: <br>\n",
    "### Qual é o top 10 de tipos de ocorrências registrados no CENIPA? E quais são os top 10 de acidentes? "
   ]
  },
  {
   "cell_type": "code",
   "execution_count": null,
   "id": "898c4835",
   "metadata": {},
   "outputs": [],
   "source": [
    "tipo.info()"
   ]
  },
  {
   "cell_type": "code",
   "execution_count": null,
   "id": "e1a9ff38",
   "metadata": {},
   "outputs": [],
   "source": [
    "tipo['ocorrencia_tipo'].value_counts()\n",
    "tipo['ocorrencia_tipo']\n",
    "tipo_2 = pd.DataFrame(tipo['ocorrencia_tipo'].value_counts().head(5))\n",
    "freq = np.array(tipo['ocorrencia_tipo'].value_counts().head(5)/ tipo['ocorrencia_tipo'].value_counts().head(5).sum() * 100)\n",
    "tipo_2['Porcentagem'] = freq\n",
    "tipo_2"
   ]
  },
  {
   "cell_type": "code",
   "execution_count": null,
   "id": "5056d561",
   "metadata": {},
   "outputs": [],
   "source": [
    "ax = tipo['ocorrencia_tipo'].value_counts().head(5).plot(kind='barh', figsize=(11,5))\n",
    "ax.bar_label(ax.containers[0])\n",
    "plt.xlabel('Frequência')\n",
    "plt.ylabel('Tipo de ocorrência')\n",
    "plt.title('Tipo de ocorrência')\n",
    "plt.xticks(rotation=35)\n",
    "plt.savefig('p9.png')"
   ]
  },
  {
   "cell_type": "markdown",
   "id": "de0bb666",
   "metadata": {},
   "source": [
    "### Com base na tabela e gráfico acima, tem-se que falha do motor em voo é a ocorrência que mais ocorre dentre os registrado correspondendo a 26%, enquanto que falha ou mau funcionamento de sistema/compenonente ocorre em 23% das ocorrências, estouro de pneu ocorre em 22% dos casos, perda de controle no solo representa 15% das ocorrências, e perna de controle em voo é 12%"
   ]
  },
  {
   "cell_type": "code",
   "execution_count": null,
   "id": "a95b0855",
   "metadata": {},
   "outputs": [],
   "source": [
    "# Construido um Tabela utilizando a função merge, para juntar dois conjuntos de dados ligado pela chave ocorrência 2\n",
    "tipo_merge =  pd.merge(ocorrencia, tipo, on=[\"codigo_ocorrencia1\",\"codigo_ocorrencia1\"], how=\"left\")\n",
    "tipo_merge.shape"
   ]
  },
  {
   "cell_type": "code",
   "execution_count": null,
   "id": "0b878625",
   "metadata": {},
   "outputs": [],
   "source": [
    "# Filtrando apenas para os acidentes \n",
    "tipo_acidente = tipo_merge[tipo_merge['ocorrencia_classificacao'] == 'ACIDENTE']\n",
    "tipo_acidente.shape"
   ]
  },
  {
   "cell_type": "code",
   "execution_count": null,
   "id": "0754e440",
   "metadata": {},
   "outputs": [],
   "source": [
    "tipo_2 = pd.DataFrame(tipo_acidente['ocorrencia_tipo'].value_counts().head(5))\n",
    "freq = np.array(tipo_acidente['ocorrencia_tipo'].value_counts().head(5)/ tipo_acidente['ocorrencia_tipo'].value_counts().head(5).sum() * 100)\n",
    "tipo_2['Porcentagem'] = freq\n",
    "tipo_2"
   ]
  },
  {
   "cell_type": "code",
   "execution_count": null,
   "id": "4edb73aa",
   "metadata": {},
   "outputs": [],
   "source": [
    "ax = tipo_acidente['ocorrencia_tipo'].value_counts().head(5).plot(kind='barh', figsize=(11,5))\n",
    "ax.bar_label(ax.containers[0])\n",
    "plt.xlabel('Frequência')\n",
    "plt.ylabel('Tipo de ocorrência por acidente')\n",
    "plt.title('Tipo de ocorrência de acidente')\n",
    "plt.xticks(rotation=35)\n",
    "plt.show()"
   ]
  },
  {
   "cell_type": "markdown",
   "id": "5eeb67f1",
   "metadata": {},
   "source": [
    "### No que se refere a tipos de ocorrência que ocasioaram acidentes, tem-se que 24% são causadas por falha do motor em voo, 22% ocorrem com perda de controle em voo, 13% das ocorrências de acidennte são por perda de controle no solo e as demais classificações correspondem a porcentagens menores que 9%"
   ]
  },
  {
   "cell_type": "code",
   "execution_count": null,
   "id": "bcb63d9e",
   "metadata": {},
   "outputs": [],
   "source": []
  }
 ],
 "metadata": {
  "kernelspec": {
   "display_name": "Python 3 (ipykernel)",
   "language": "python",
   "name": "python3"
  },
  "language_info": {
   "codemirror_mode": {
    "name": "ipython",
    "version": 3
   },
   "file_extension": ".py",
   "mimetype": "text/x-python",
   "name": "python",
   "nbconvert_exporter": "python",
   "pygments_lexer": "ipython3",
   "version": "3.9.7"
  }
 },
 "nbformat": 4,
 "nbformat_minor": 5
}
